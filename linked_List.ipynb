{
 "cells": [
  {
   "cell_type": "code",
   "execution_count": 1,
   "id": "118a4d02",
   "metadata": {},
   "outputs": [],
   "source": [
    "l = [1,2,3,4]"
   ]
  },
  {
   "cell_type": "code",
   "execution_count": 2,
   "id": "da4d99cb",
   "metadata": {},
   "outputs": [
    {
     "data": {
      "text/plain": [
       "2"
      ]
     },
     "execution_count": 2,
     "metadata": {},
     "output_type": "execute_result"
    }
   ],
   "source": [
    "l[1]"
   ]
  },
  {
   "cell_type": "code",
   "execution_count": 3,
   "id": "8d9e3804",
   "metadata": {},
   "outputs": [],
   "source": [
    "class Node:\n",
    "    def __init__(self,data):\n",
    "        self.data = data\n",
    "        self.next = None"
   ]
  },
  {
   "cell_type": "code",
   "execution_count": 76,
   "id": "e2691f9b",
   "metadata": {},
   "outputs": [],
   "source": [
    "class Linkedlist:\n",
    "    def __init__(self):\n",
    "        self.head = None\n",
    "        \n",
    "    def insertatstarting(self,data):\n",
    "        new_node = Node(data)\n",
    "        if(self.head is None):\n",
    "            self.head = new_node\n",
    "        else:\n",
    "            new_node.next = self.head\n",
    "            self.head = new_node \n",
    "            \n",
    "    def insertatend(self,data):\n",
    "        new_node = Node(data)\n",
    "        if(self.head is None):\n",
    "            self.head = new_node\n",
    "        else:\n",
    "            curr_node = self.head\n",
    "            while(curr_node.next != None):\n",
    "                curr_node = curr_node.next\n",
    "            curr_node.next = new_node\n",
    "        \n",
    "\n",
    "    def print_ll(self):\n",
    "        if(self.head is None):\n",
    "            print(\"Empty Linked List\")\n",
    "            return \n",
    "        \n",
    "        curr_node = self.head\n",
    "        while(curr_node):\n",
    "            print(curr_node.data)\n",
    "            curr_node = curr_node.next"
   ]
  },
  {
   "cell_type": "code",
   "execution_count": null,
   "id": "a85a06e9",
   "metadata": {},
   "outputs": [],
   "source": []
  },
  {
   "cell_type": "code",
   "execution_count": null,
   "id": "61312a61",
   "metadata": {},
   "outputs": [],
   "source": [
    "insert data at a specific position \n",
    "10  30 \n",
    "\n",
    "add 20 after 10 \n",
    "\n",
    "nex_node = target_node.next \n",
    "node.next -> new_node\n",
    "new_node.next -> "
   ]
  },
  {
   "cell_type": "code",
   "execution_count": null,
   "id": "11e70a37",
   "metadata": {},
   "outputs": [],
   "source": []
  },
  {
   "cell_type": "code",
   "execution_count": 77,
   "id": "03dd7699",
   "metadata": {},
   "outputs": [],
   "source": [
    "l = Linkedlist()"
   ]
  },
  {
   "cell_type": "code",
   "execution_count": 78,
   "id": "d47a8596",
   "metadata": {},
   "outputs": [
    {
     "name": "stdout",
     "output_type": "stream",
     "text": [
      "Empty Linked List\n"
     ]
    }
   ],
   "source": [
    "l.print_ll()"
   ]
  },
  {
   "cell_type": "code",
   "execution_count": 83,
   "id": "76e613f0",
   "metadata": {},
   "outputs": [],
   "source": [
    "l.insertatend(30)"
   ]
  },
  {
   "cell_type": "code",
   "execution_count": 84,
   "id": "45ce9a9d",
   "metadata": {
    "scrolled": false
   },
   "outputs": [
    {
     "name": "stdout",
     "output_type": "stream",
     "text": [
      "10\n",
      "20\n",
      "30\n"
     ]
    }
   ],
   "source": [
    "l.print_ll()"
   ]
  },
  {
   "cell_type": "code",
   "execution_count": 74,
   "id": "8df7cef4",
   "metadata": {},
   "outputs": [],
   "source": [
    "l.insertatstarting(60)"
   ]
  },
  {
   "cell_type": "code",
   "execution_count": 75,
   "id": "dd6040eb",
   "metadata": {},
   "outputs": [
    {
     "name": "stdout",
     "output_type": "stream",
     "text": [
      "60\n",
      "50\n",
      "50\n",
      "10\n",
      "50\n"
     ]
    }
   ],
   "source": [
    "l.print_ll()"
   ]
  },
  {
   "cell_type": "code",
   "execution_count": null,
   "id": "2dea54c4",
   "metadata": {},
   "outputs": [],
   "source": []
  }
 ],
 "metadata": {
  "kernelspec": {
   "display_name": "Python 3 (ipykernel)",
   "language": "python",
   "name": "python3"
  },
  "language_info": {
   "codemirror_mode": {
    "name": "ipython",
    "version": 3
   },
   "file_extension": ".py",
   "mimetype": "text/x-python",
   "name": "python",
   "nbconvert_exporter": "python",
   "pygments_lexer": "ipython3",
   "version": "3.10.9"
  }
 },
 "nbformat": 4,
 "nbformat_minor": 5
}
