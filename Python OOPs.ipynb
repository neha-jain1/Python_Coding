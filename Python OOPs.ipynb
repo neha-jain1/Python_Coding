{
 "cells": [
  {
   "cell_type": "code",
   "execution_count": 112,
   "id": "ffec994d",
   "metadata": {},
   "outputs": [
    {
     "ename": "SyntaxError",
     "evalue": "invalid syntax (751158022.py, line 1)",
     "output_type": "error",
     "traceback": [
      "\u001b[1;36m  Cell \u001b[1;32mIn[112], line 1\u001b[1;36m\u001b[0m\n\u001b[1;33m    Bank : ICICI, SBI, PNB\u001b[0m\n\u001b[1;37m                ^\u001b[0m\n\u001b[1;31mSyntaxError\u001b[0m\u001b[1;31m:\u001b[0m invalid syntax\n"
     ]
    }
   ],
   "source": [
    "Bank : ICICI, SBI, PNB\n",
    "    \n",
    "    ROI Diff\n",
    "    Loan Tenure \n",
    "    working hours \n",
    "    atm facility \n",
    "    credit cards options "
   ]
  },
  {
   "cell_type": "code",
   "execution_count": null,
   "id": "af80dd55",
   "metadata": {},
   "outputs": [],
   "source": [
    "class, object, encapsulation, polymorphirsm(method overloading , method overriding), inheritance, data abstraction"
   ]
  },
  {
   "cell_type": "code",
   "execution_count": null,
   "id": "8df113bd",
   "metadata": {},
   "outputs": [],
   "source": []
  },
  {
   "cell_type": "code",
   "execution_count": 67,
   "id": "a3aedb7a",
   "metadata": {},
   "outputs": [],
   "source": [
    "class employee:\n",
    "    def __init__(self,name,id):\n",
    "        self.__data = \"employee\"\n",
    "        self.id = id\n",
    "        self.name = name \n",
    "        print(\"My Name is \",name)\n",
    "        \n",
    "    def speak(self,lang):\n",
    "        print(\"I can speak\",lang)\n",
    "        print(\"My employee id is \",self.id)\n",
    "        "
   ]
  },
  {
   "cell_type": "code",
   "execution_count": 68,
   "id": "9a92b4f8",
   "metadata": {},
   "outputs": [],
   "source": [
    "class datascientist(employee):\n",
    "    def __init__(self,name,id,skills):\n",
    "        employee.__init__(self,name,id)\n",
    "        self.skills = skills\n",
    "        \n",
    "    def salary(self,curr_sal):\n",
    "        new_sal = curr_sal + 0.15*curr_sal\n",
    "        print(\"Your updated salary is \",new_sal)"
   ]
  },
  {
   "cell_type": "code",
   "execution_count": 69,
   "id": "36662278",
   "metadata": {},
   "outputs": [],
   "source": [
    "class datanalayst(employee):\n",
    "    def __init__(self,name,id,skills):\n",
    "        employee.__init__(self,name,id)\n",
    "        self.skills = skills\n",
    "        \n",
    "    def salary(self,curr_sal):\n",
    "        new_sal = curr_sal + 0.12*curr_sal\n",
    "        print(\"Your updated salary is \",new_sal)"
   ]
  },
  {
   "cell_type": "code",
   "execution_count": 70,
   "id": "132e02b8",
   "metadata": {},
   "outputs": [
    {
     "name": "stdout",
     "output_type": "stream",
     "text": [
      "My Name is  Aman\n"
     ]
    }
   ],
   "source": [
    "aman = datascientist(\"Aman\",1,\"DS\")\n"
   ]
  },
  {
   "cell_type": "code",
   "execution_count": 71,
   "id": "2fb5ec66",
   "metadata": {},
   "outputs": [
    {
     "name": "stdout",
     "output_type": "stream",
     "text": [
      "Your updated salary is  11500.0\n"
     ]
    }
   ],
   "source": [
    "aman.salary(10000)"
   ]
  },
  {
   "cell_type": "code",
   "execution_count": null,
   "id": "4eaa03ae",
   "metadata": {},
   "outputs": [],
   "source": []
  },
  {
   "cell_type": "code",
   "execution_count": 73,
   "id": "ca84ab66",
   "metadata": {},
   "outputs": [
    {
     "name": "stdout",
     "output_type": "stream",
     "text": [
      "My Name is  Akshay\n"
     ]
    }
   ],
   "source": [
    "akshay = datanalayst(\"Akshay\",2,\"SQL\")"
   ]
  },
  {
   "cell_type": "code",
   "execution_count": 75,
   "id": "ab4a03b0",
   "metadata": {},
   "outputs": [
    {
     "name": "stdout",
     "output_type": "stream",
     "text": [
      "Your updated salary is  11200.0\n"
     ]
    }
   ],
   "source": [
    "akshay.salary(10000)"
   ]
  },
  {
   "cell_type": "code",
   "execution_count": null,
   "id": "df189e5c",
   "metadata": {},
   "outputs": [],
   "source": []
  },
  {
   "cell_type": "code",
   "execution_count": null,
   "id": "fd16e527",
   "metadata": {},
   "outputs": [],
   "source": []
  },
  {
   "cell_type": "code",
   "execution_count": null,
   "id": "06dd1022",
   "metadata": {},
   "outputs": [],
   "source": []
  },
  {
   "cell_type": "code",
   "execution_count": null,
   "id": "71c75b7e",
   "metadata": {},
   "outputs": [],
   "source": []
  },
  {
   "cell_type": "code",
   "execution_count": null,
   "id": "f12b3e61",
   "metadata": {},
   "outputs": [],
   "source": []
  },
  {
   "cell_type": "code",
   "execution_count": 62,
   "id": "ee46ccab",
   "metadata": {},
   "outputs": [
    {
     "name": "stdout",
     "output_type": "stream",
     "text": [
      "My Name is  Aman\n"
     ]
    }
   ],
   "source": [
    "aman = employee(\"Aman\",1)"
   ]
  },
  {
   "cell_type": "code",
   "execution_count": 63,
   "id": "988e2c5e",
   "metadata": {},
   "outputs": [
    {
     "data": {
      "text/plain": [
       "1"
      ]
     },
     "execution_count": 63,
     "metadata": {},
     "output_type": "execute_result"
    }
   ],
   "source": [
    "aman.id"
   ]
  },
  {
   "cell_type": "code",
   "execution_count": 65,
   "id": "8b85ad37",
   "metadata": {},
   "outputs": [
    {
     "ename": "AttributeError",
     "evalue": "'employee' object has no attribute '__data'",
     "output_type": "error",
     "traceback": [
      "\u001b[1;31m---------------------------------------------------------------------------\u001b[0m",
      "\u001b[1;31mAttributeError\u001b[0m                            Traceback (most recent call last)",
      "Cell \u001b[1;32mIn[65], line 1\u001b[0m\n\u001b[1;32m----> 1\u001b[0m \u001b[43maman\u001b[49m\u001b[38;5;241;43m.\u001b[39;49m\u001b[43m__data\u001b[49m\n",
      "\u001b[1;31mAttributeError\u001b[0m: 'employee' object has no attribute '__data'"
     ]
    }
   ],
   "source": [
    "aman.__data"
   ]
  },
  {
   "cell_type": "code",
   "execution_count": 54,
   "id": "a2f0b0ab",
   "metadata": {},
   "outputs": [
    {
     "name": "stdout",
     "output_type": "stream",
     "text": [
      "I can speak English\n",
      "My employee id is  1\n"
     ]
    }
   ],
   "source": [
    "aman.speak('English')"
   ]
  },
  {
   "cell_type": "code",
   "execution_count": 55,
   "id": "1e5e98f4",
   "metadata": {},
   "outputs": [
    {
     "name": "stdout",
     "output_type": "stream",
     "text": [
      "Your updated salary is  11000.0\n"
     ]
    }
   ],
   "source": [
    "aman.salary(10000)"
   ]
  },
  {
   "cell_type": "code",
   "execution_count": 50,
   "id": "472a5a60",
   "metadata": {},
   "outputs": [
    {
     "name": "stdout",
     "output_type": "stream",
     "text": [
      "My Name is  Akshay\n"
     ]
    }
   ],
   "source": [
    "akshay = employee(\"Akshay\",2)"
   ]
  },
  {
   "cell_type": "code",
   "execution_count": 51,
   "id": "f94c9412",
   "metadata": {},
   "outputs": [
    {
     "name": "stdout",
     "output_type": "stream",
     "text": [
      "I can speak Hindi\n",
      "My employee id is  2\n"
     ]
    }
   ],
   "source": [
    "akshay.speak(\"Hindi\")"
   ]
  },
  {
   "cell_type": "markdown",
   "id": "6f660ff8",
   "metadata": {},
   "source": [
    "## Polymorphism"
   ]
  },
  {
   "cell_type": "code",
   "execution_count": 97,
   "id": "ee615da0",
   "metadata": {},
   "outputs": [],
   "source": [
    "class employee:\n",
    "    def __init__(self,name,id):\n",
    "        self.__data = \"employee\"\n",
    "        self.id = id\n",
    "        self.name = name \n",
    "        print(\"My Name is \",name)\n",
    "        \n",
    "    def skills(self,skill):\n",
    "        self.skill = skill\n",
    "        print(\"My Skills are \",skill)\n",
    "        \n",
    "    def salary(self,curr_sal):\n",
    "        new_sal = curr_sal + 0.15*curr_sal\n",
    "        print(\"Your updated salary is \",new_sal)"
   ]
  },
  {
   "cell_type": "code",
   "execution_count": 106,
   "id": "222e9867",
   "metadata": {},
   "outputs": [],
   "source": [
    "class datascientist(employee):\n",
    "    def __init__(self,name,id):\n",
    "        employee.__init__(self,name,id)\n",
    "        \n",
    "    def skills(self,skill,expertise):\n",
    "        self.skill = skill\n",
    "        self.expertise = expertise\n",
    "        print(\"My Skills are \",skill)\n",
    "        print(\"But My expertise is in \",self.expertise)"
   ]
  },
  {
   "cell_type": "code",
   "execution_count": 110,
   "id": "04904635",
   "metadata": {},
   "outputs": [
    {
     "name": "stdout",
     "output_type": "stream",
     "text": [
      "My Name is  Ritesh\n"
     ]
    }
   ],
   "source": [
    "e1 = employee(\"Ritesh\",5)"
   ]
  },
  {
   "cell_type": "code",
   "execution_count": 111,
   "id": "08e6721b",
   "metadata": {},
   "outputs": [
    {
     "name": "stdout",
     "output_type": "stream",
     "text": [
      "My Skills are  Speaking English\n"
     ]
    }
   ],
   "source": [
    "e1.skills(\"Speaking English\")"
   ]
  },
  {
   "cell_type": "code",
   "execution_count": 105,
   "id": "49025096",
   "metadata": {},
   "outputs": [
    {
     "name": "stdout",
     "output_type": "stream",
     "text": [
      "Your updated salary is  5750.0\n"
     ]
    }
   ],
   "source": [
    "e1.salary(5000)"
   ]
  },
  {
   "cell_type": "code",
   "execution_count": null,
   "id": "b745fa21",
   "metadata": {},
   "outputs": [],
   "source": []
  },
  {
   "cell_type": "code",
   "execution_count": null,
   "id": "4f1c1809",
   "metadata": {},
   "outputs": [],
   "source": []
  },
  {
   "cell_type": "code",
   "execution_count": 107,
   "id": "594deb78",
   "metadata": {},
   "outputs": [
    {
     "name": "stdout",
     "output_type": "stream",
     "text": [
      "My Name is  Aman\n"
     ]
    }
   ],
   "source": [
    "aman = datascientist(\"Aman\",1)"
   ]
  },
  {
   "cell_type": "code",
   "execution_count": 108,
   "id": "19aadecd",
   "metadata": {},
   "outputs": [
    {
     "name": "stdout",
     "output_type": "stream",
     "text": [
      "My Skills are  Data Scientist\n",
      "But My expertise is in  NLP\n"
     ]
    }
   ],
   "source": [
    "aman.skills(\"Data Scientist\",\"NLP\")"
   ]
  },
  {
   "cell_type": "code",
   "execution_count": 109,
   "id": "7374d982",
   "metadata": {},
   "outputs": [
    {
     "name": "stdout",
     "output_type": "stream",
     "text": [
      "Your updated salary is  11500.0\n"
     ]
    }
   ],
   "source": [
    "aman.salary(10000)"
   ]
  },
  {
   "cell_type": "code",
   "execution_count": null,
   "id": "56e8a66f",
   "metadata": {},
   "outputs": [],
   "source": []
  }
 ],
 "metadata": {
  "kernelspec": {
   "display_name": "Python 3 (ipykernel)",
   "language": "python",
   "name": "python3"
  },
  "language_info": {
   "codemirror_mode": {
    "name": "ipython",
    "version": 3
   },
   "file_extension": ".py",
   "mimetype": "text/x-python",
   "name": "python",
   "nbconvert_exporter": "python",
   "pygments_lexer": "ipython3",
   "version": "3.10.9"
  }
 },
 "nbformat": 4,
 "nbformat_minor": 5
}
